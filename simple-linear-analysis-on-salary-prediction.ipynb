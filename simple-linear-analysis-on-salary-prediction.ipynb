{
 "cells": [
  {
   "cell_type": "code",
   "execution_count": 1,
   "id": "bca6e225",
   "metadata": {
    "_cell_guid": "b1076dfc-b9ad-4769-8c92-a6c4dae69d19",
    "_uuid": "8f2839f25d086af736a60e9eeb907d3b93b6e0e5",
    "execution": {
     "iopub.execute_input": "2023-08-30T07:59:57.743725Z",
     "iopub.status.busy": "2023-08-30T07:59:57.743271Z",
     "iopub.status.idle": "2023-08-30T07:59:57.765991Z",
     "shell.execute_reply": "2023-08-30T07:59:57.765129Z"
    },
    "papermill": {
     "duration": 0.033204,
     "end_time": "2023-08-30T07:59:57.768256",
     "exception": false,
     "start_time": "2023-08-30T07:59:57.735052",
     "status": "completed"
    },
    "tags": []
   },
   "outputs": [
    {
     "name": "stdout",
     "output_type": "stream",
     "text": [
      "/kaggle/input/salary/Salary.csv\n"
     ]
    }
   ],
   "source": [
    "# This Python 3 environment comes with many helpful analytics libraries installed\n",
    "# It is defined by the kaggle/python Docker image: https://github.com/kaggle/docker-python\n",
    "# For example, here's several helpful packages to load\n",
    "\n",
    "import numpy as np # linear algebra\n",
    "import pandas as pd # data processing, CSV file I/O (e.g. pd.read_csv)\n",
    "\n",
    "# Input data files are available in the read-only \"../input/\" directory\n",
    "# For example, running this (by clicking run or pressing Shift+Enter) will list all files under the input directory\n",
    "\n",
    "import os\n",
    "for dirname, _, filenames in os.walk('/kaggle/input'):\n",
    "    for filename in filenames:\n",
    "        print(os.path.join(dirname, filename))\n",
    "\n",
    "# You can write up to 20GB to the current directory (/kaggle/working/) that gets preserved as output when you create a version using \"Save & Run All\" \n",
    "# You can also write temporary files to /kaggle/temp/, but they won't be saved outside of the current session"
   ]
  },
  {
   "cell_type": "code",
   "execution_count": 2,
   "id": "e404ec8d",
   "metadata": {
    "execution": {
     "iopub.execute_input": "2023-08-30T07:59:57.782003Z",
     "iopub.status.busy": "2023-08-30T07:59:57.781705Z",
     "iopub.status.idle": "2023-08-30T07:59:57.814138Z",
     "shell.execute_reply": "2023-08-30T07:59:57.812788Z"
    },
    "papermill": {
     "duration": 0.042158,
     "end_time": "2023-08-30T07:59:57.816746",
     "exception": false,
     "start_time": "2023-08-30T07:59:57.774588",
     "status": "completed"
    },
    "tags": []
   },
   "outputs": [
    {
     "data": {
      "text/html": [
       "<div>\n",
       "<style scoped>\n",
       "    .dataframe tbody tr th:only-of-type {\n",
       "        vertical-align: middle;\n",
       "    }\n",
       "\n",
       "    .dataframe tbody tr th {\n",
       "        vertical-align: top;\n",
       "    }\n",
       "\n",
       "    .dataframe thead th {\n",
       "        text-align: right;\n",
       "    }\n",
       "</style>\n",
       "<table border=\"1\" class=\"dataframe\">\n",
       "  <thead>\n",
       "    <tr style=\"text-align: right;\">\n",
       "      <th></th>\n",
       "      <th>YearsExperience</th>\n",
       "      <th>Salary</th>\n",
       "    </tr>\n",
       "  </thead>\n",
       "  <tbody>\n",
       "    <tr>\n",
       "      <th>0</th>\n",
       "      <td>1.1</td>\n",
       "      <td>39343</td>\n",
       "    </tr>\n",
       "    <tr>\n",
       "      <th>1</th>\n",
       "      <td>1.3</td>\n",
       "      <td>46205</td>\n",
       "    </tr>\n",
       "    <tr>\n",
       "      <th>2</th>\n",
       "      <td>1.5</td>\n",
       "      <td>37731</td>\n",
       "    </tr>\n",
       "    <tr>\n",
       "      <th>3</th>\n",
       "      <td>2.0</td>\n",
       "      <td>43525</td>\n",
       "    </tr>\n",
       "    <tr>\n",
       "      <th>4</th>\n",
       "      <td>2.2</td>\n",
       "      <td>39891</td>\n",
       "    </tr>\n",
       "  </tbody>\n",
       "</table>\n",
       "</div>"
      ],
      "text/plain": [
       "   YearsExperience  Salary\n",
       "0              1.1   39343\n",
       "1              1.3   46205\n",
       "2              1.5   37731\n",
       "3              2.0   43525\n",
       "4              2.2   39891"
      ]
     },
     "execution_count": 2,
     "metadata": {},
     "output_type": "execute_result"
    }
   ],
   "source": [
    "#to see the data\n",
    "data= pd.read_csv(\"/kaggle/input/salary/Salary.csv\")\n",
    "data.head()"
   ]
  },
  {
   "cell_type": "code",
   "execution_count": 3,
   "id": "77e5f0e7",
   "metadata": {
    "execution": {
     "iopub.execute_input": "2023-08-30T07:59:57.830766Z",
     "iopub.status.busy": "2023-08-30T07:59:57.830428Z",
     "iopub.status.idle": "2023-08-30T07:59:57.840199Z",
     "shell.execute_reply": "2023-08-30T07:59:57.839259Z"
    },
    "papermill": {
     "duration": 0.018748,
     "end_time": "2023-08-30T07:59:57.842046",
     "exception": false,
     "start_time": "2023-08-30T07:59:57.823298",
     "status": "completed"
    },
    "tags": []
   },
   "outputs": [
    {
     "data": {
      "text/plain": [
       "YearsExperience    0\n",
       "Salary             0\n",
       "dtype: int64"
      ]
     },
     "execution_count": 3,
     "metadata": {},
     "output_type": "execute_result"
    }
   ],
   "source": [
    "#to find the null values in the dataset\n",
    "data.isnull().sum()"
   ]
  },
  {
   "cell_type": "code",
   "execution_count": 4,
   "id": "fc77f9ac",
   "metadata": {
    "execution": {
     "iopub.execute_input": "2023-08-30T07:59:57.856072Z",
     "iopub.status.busy": "2023-08-30T07:59:57.855465Z",
     "iopub.status.idle": "2023-08-30T07:59:57.874785Z",
     "shell.execute_reply": "2023-08-30T07:59:57.873258Z"
    },
    "papermill": {
     "duration": 0.028202,
     "end_time": "2023-08-30T07:59:57.876766",
     "exception": false,
     "start_time": "2023-08-30T07:59:57.848564",
     "status": "completed"
    },
    "tags": []
   },
   "outputs": [
    {
     "data": {
      "text/html": [
       "<div>\n",
       "<style scoped>\n",
       "    .dataframe tbody tr th:only-of-type {\n",
       "        vertical-align: middle;\n",
       "    }\n",
       "\n",
       "    .dataframe tbody tr th {\n",
       "        vertical-align: top;\n",
       "    }\n",
       "\n",
       "    .dataframe thead th {\n",
       "        text-align: right;\n",
       "    }\n",
       "</style>\n",
       "<table border=\"1\" class=\"dataframe\">\n",
       "  <thead>\n",
       "    <tr style=\"text-align: right;\">\n",
       "      <th></th>\n",
       "      <th>YearsExperience</th>\n",
       "      <th>Salary</th>\n",
       "    </tr>\n",
       "  </thead>\n",
       "  <tbody>\n",
       "    <tr>\n",
       "      <th>count</th>\n",
       "      <td>35.000000</td>\n",
       "      <td>35.000000</td>\n",
       "    </tr>\n",
       "    <tr>\n",
       "      <th>mean</th>\n",
       "      <td>6.308571</td>\n",
       "      <td>83945.600000</td>\n",
       "    </tr>\n",
       "    <tr>\n",
       "      <th>std</th>\n",
       "      <td>3.618610</td>\n",
       "      <td>32162.673003</td>\n",
       "    </tr>\n",
       "    <tr>\n",
       "      <th>min</th>\n",
       "      <td>1.100000</td>\n",
       "      <td>37731.000000</td>\n",
       "    </tr>\n",
       "    <tr>\n",
       "      <th>25%</th>\n",
       "      <td>3.450000</td>\n",
       "      <td>57019.000000</td>\n",
       "    </tr>\n",
       "    <tr>\n",
       "      <th>50%</th>\n",
       "      <td>5.300000</td>\n",
       "      <td>81363.000000</td>\n",
       "    </tr>\n",
       "    <tr>\n",
       "      <th>75%</th>\n",
       "      <td>9.250000</td>\n",
       "      <td>113223.500000</td>\n",
       "    </tr>\n",
       "    <tr>\n",
       "      <th>max</th>\n",
       "      <td>13.500000</td>\n",
       "      <td>139465.000000</td>\n",
       "    </tr>\n",
       "  </tbody>\n",
       "</table>\n",
       "</div>"
      ],
      "text/plain": [
       "       YearsExperience         Salary\n",
       "count        35.000000      35.000000\n",
       "mean          6.308571   83945.600000\n",
       "std           3.618610   32162.673003\n",
       "min           1.100000   37731.000000\n",
       "25%           3.450000   57019.000000\n",
       "50%           5.300000   81363.000000\n",
       "75%           9.250000  113223.500000\n",
       "max          13.500000  139465.000000"
      ]
     },
     "execution_count": 4,
     "metadata": {},
     "output_type": "execute_result"
    }
   ],
   "source": [
    "#to find the mean,min,max,etc..\n",
    "data.describe()"
   ]
  },
  {
   "cell_type": "code",
   "execution_count": 5,
   "id": "89690973",
   "metadata": {
    "execution": {
     "iopub.execute_input": "2023-08-30T07:59:57.891096Z",
     "iopub.status.busy": "2023-08-30T07:59:57.890790Z",
     "iopub.status.idle": "2023-08-30T07:59:58.117737Z",
     "shell.execute_reply": "2023-08-30T07:59:58.116433Z"
    },
    "papermill": {
     "duration": 0.23698,
     "end_time": "2023-08-30T07:59:58.120245",
     "exception": false,
     "start_time": "2023-08-30T07:59:57.883265",
     "status": "completed"
    },
    "tags": []
   },
   "outputs": [
    {
     "data": {
      "image/png": "[encoded data removed]",
      "text/plain": [
       "<Figure size 640x480 with 1 Axes>"
      ]
     },
     "metadata": {},
     "output_type": "display_data"
    }
   ],
   "source": [
    "#plotting the values for the visual\n",
    "import matplotlib.pyplot as plt\n",
    "data.plot(x=\"YearsExperience\",y=\"Salary\",style='o')\n",
    "plt.xlabel('experience')\n",
    "plt.ylabel('salary')\n",
    "plt.show()"
   ]
  },
  {
   "cell_type": "code",
   "execution_count": 6,
   "id": "9d13e947",
   "metadata": {
    "execution": {
     "iopub.execute_input": "2023-08-30T07:59:58.136083Z",
     "iopub.status.busy": "2023-08-30T07:59:58.135745Z",
     "iopub.status.idle": "2023-08-30T07:59:58.141647Z",
     "shell.execute_reply": "2023-08-30T07:59:58.140594Z"
    },
    "papermill": {
     "duration": 0.016115,
     "end_time": "2023-08-30T07:59:58.143623",
     "exception": false,
     "start_time": "2023-08-30T07:59:58.127508",
     "status": "completed"
    },
    "tags": []
   },
   "outputs": [],
   "source": [
    "#seperate the x,y values\n",
    "x=pd.DataFrame(data[\"YearsExperience\"])\n",
    "y=pd.DataFrame(data[\"Salary\"])"
   ]
  },
  {
   "cell_type": "code",
   "execution_count": 7,
   "id": "401ca74e",
   "metadata": {
    "execution": {
     "iopub.execute_input": "2023-08-30T07:59:58.159939Z",
     "iopub.status.busy": "2023-08-30T07:59:58.159584Z",
     "iopub.status.idle": "2023-08-30T07:59:59.283900Z",
     "shell.execute_reply": "2023-08-30T07:59:59.282495Z"
    },
    "papermill": {
     "duration": 1.134721,
     "end_time": "2023-08-30T07:59:59.286515",
     "exception": false,
     "start_time": "2023-08-30T07:59:58.151794",
     "status": "completed"
    },
    "tags": []
   },
   "outputs": [
    {
     "name": "stderr",
     "output_type": "stream",
     "text": [
      "/opt/conda/lib/python3.10/site-packages/scipy/__init__.py:146: UserWarning: A NumPy version >=1.16.5 and <1.23.0 is required for this version of SciPy (detected version 1.23.5\n",
      "  warnings.warn(f\"A NumPy version >={np_minversion} and <{np_maxversion}\"\n"
     ]
    }
   ],
   "source": [
    "#spliting the values \n",
    "from sklearn.model_selection import train_test_split\n",
    "x_train,x_test,y_train,y_test = train_test_split(x,y,test_size=0.2,random_state=1)"
   ]
  },
  {
   "cell_type": "code",
   "execution_count": 8,
   "id": "bfef6448",
   "metadata": {
    "execution": {
     "iopub.execute_input": "2023-08-30T07:59:59.303132Z",
     "iopub.status.busy": "2023-08-30T07:59:59.302764Z",
     "iopub.status.idle": "2023-08-30T07:59:59.307921Z",
     "shell.execute_reply": "2023-08-30T07:59:59.307041Z"
    },
    "papermill": {
     "duration": 0.015304,
     "end_time": "2023-08-30T07:59:59.309884",
     "exception": false,
     "start_time": "2023-08-30T07:59:59.294580",
     "status": "completed"
    },
    "tags": []
   },
   "outputs": [
    {
     "name": "stdout",
     "output_type": "stream",
     "text": [
      "(28, 1)\n",
      "(7, 1)\n",
      "(28, 1)\n",
      "(7, 1)\n"
     ]
    }
   ],
   "source": [
    "print(x_train.shape)\n",
    "print(x_test.shape)\n",
    "print(y_train.shape)\n",
    "print(y_test.shape)"
   ]
  },
  {
   "cell_type": "code",
   "execution_count": 9,
   "id": "54adaaba",
   "metadata": {
    "execution": {
     "iopub.execute_input": "2023-08-30T07:59:59.325921Z",
     "iopub.status.busy": "2023-08-30T07:59:59.325240Z",
     "iopub.status.idle": "2023-08-30T07:59:59.440089Z",
     "shell.execute_reply": "2023-08-30T07:59:59.438990Z"
    },
    "papermill": {
     "duration": 0.124898,
     "end_time": "2023-08-30T07:59:59.441992",
     "exception": false,
     "start_time": "2023-08-30T07:59:59.317094",
     "status": "completed"
    },
    "tags": []
   },
   "outputs": [
    {
     "data": {
      "text/html": [
       "<style>#sk-container-id-1 {color: black;background-color: white;}#sk-container-id-1 pre{padding: 0;}#sk-container-id-1 div.sk-toggleable {background-color: white;}#sk-container-id-1 label.sk-toggleable__label {cursor: pointer;display: block;width: 100%;margin-bottom: 0;padding: 0.3em;box-sizing: border-box;text-align: center;}#sk-container-id-1 label.sk-toggleable__label-arrow:before {content: \"▸\";float: left;margin-right: 0.25em;color: #696969;}#sk-container-id-1 label.sk-toggleable__label-arrow:hover:before {color: black;}#sk-container-id-1 div.sk-estimator:hover label.sk-toggleable__label-arrow:before {color: black;}#sk-container-id-1 div.sk-toggleable__content {max-height: 0;max-width: 0;overflow: hidden;text-align: left;background-color: #f0f8ff;}#sk-container-id-1 div.sk-toggleable__content pre {margin: 0.2em;color: black;border-radius: 0.25em;background-color: #f0f8ff;}#sk-container-id-1 input.sk-toggleable__control:checked~div.sk-toggleable__content {max-height: 200px;max-width: 100%;overflow: auto;}#sk-container-id-1 input.sk-toggleable__control:checked~label.sk-toggleable__label-arrow:before {content: \"▾\";}#sk-container-id-1 div.sk-estimator input.sk-toggleable__control:checked~label.sk-toggleable__label {background-color: #d4ebff;}#sk-container-id-1 div.sk-label input.sk-toggleable__control:checked~label.sk-toggleable__label {background-color: #d4ebff;}#sk-container-id-1 input.sk-hidden--visually {border: 0;clip: rect(1px 1px 1px 1px);clip: rect(1px, 1px, 1px, 1px);height: 1px;margin: -1px;overflow: hidden;padding: 0;position: absolute;width: 1px;}#sk-container-id-1 div.sk-estimator {font-family: monospace;background-color: #f0f8ff;border: 1px dotted black;border-radius: 0.25em;box-sizing: border-box;margin-bottom: 0.5em;}#sk-container-id-1 div.sk-estimator:hover {background-color: #d4ebff;}#sk-container-id-1 div.sk-parallel-item::after {content: \"\";width: 100%;border-bottom: 1px solid gray;flex-grow: 1;}#sk-container-id-1 div.sk-label:hover label.sk-toggleable__label {background-color: #d4ebff;}#sk-container-id-1 div.sk-serial::before {content: \"\";position: absolute;border-left: 1px solid gray;box-sizing: border-box;top: 0;bottom: 0;left: 50%;z-index: 0;}#sk-container-id-1 div.sk-serial {display: flex;flex-direction: column;align-items: center;background-color: white;padding-right: 0.2em;padding-left: 0.2em;position: relative;}#sk-container-id-1 div.sk-item {position: relative;z-index: 1;}#sk-container-id-1 div.sk-parallel {display: flex;align-items: stretch;justify-content: center;background-color: white;position: relative;}#sk-container-id-1 div.sk-item::before, #sk-container-id-1 div.sk-parallel-item::before {content: \"\";position: absolute;border-left: 1px solid gray;box-sizing: border-box;top: 0;bottom: 0;left: 50%;z-index: -1;}#sk-container-id-1 div.sk-parallel-item {display: flex;flex-direction: column;z-index: 1;position: relative;background-color: white;}#sk-container-id-1 div.sk-parallel-item:first-child::after {align-self: flex-end;width: 50%;}#sk-container-id-1 div.sk-parallel-item:last-child::after {align-self: flex-start;width: 50%;}#sk-container-id-1 div.sk-parallel-item:only-child::after {width: 0;}#sk-container-id-1 div.sk-dashed-wrapped {border: 1px dashed gray;margin: 0 0.4em 0.5em 0.4em;box-sizing: border-box;padding-bottom: 0.4em;background-color: white;}#sk-container-id-1 div.sk-label label {font-family: monospace;font-weight: bold;display: inline-block;line-height: 1.2em;}#sk-container-id-1 div.sk-label-container {text-align: center;}#sk-container-id-1 div.sk-container {/* jupyter's `normalize.less` sets `[hidden] { display: none; }` but bootstrap.min.css set `[hidden] { display: none !important; }` so we also need the `!important` here to be able to override the default hidden behavior on the sphinx rendered scikit-learn.org. See: https://github.com/scikit-learn/scikit-learn/issues/21755 */display: inline-block !important;position: relative;}#sk-container-id-1 div.sk-text-repr-fallback {display: none;}</style><div id=\"sk-container-id-1\" class=\"sk-top-container\"><div class=\"sk-text-repr-fallback\"><pre>LinearRegression()</pre><b>In a Jupyter environment, please rerun this cell to show the HTML representation or trust the notebook. <br />On GitHub, the HTML representation is unable to render, please try loading this page with nbviewer.org.</b></div><div class=\"sk-container\" hidden><div class=\"sk-item\"><div class=\"sk-estimator sk-toggleable\"><input class=\"sk-toggleable__control sk-hidden--visually\" id=\"sk-estimator-id-1\" type=\"checkbox\" checked><label for=\"sk-estimator-id-1\" class=\"sk-toggleable__label sk-toggleable__label-arrow\">LinearRegression</label><div class=\"sk-toggleable__content\"><pre>LinearRegression()</pre></div></div></div></div></div>"
      ],
      "text/plain": [
       "LinearRegression()"
      ]
     },
     "execution_count": 9,
     "metadata": {},
     "output_type": "execute_result"
    }
   ],
   "source": [
    "#LinearRegression\n",
    "from sklearn.linear_model import LinearRegression\n",
    "reg= LinearRegression()\n",
    "reg.fit(x_train,y_train)"
   ]
  },
  {
   "cell_type": "code",
   "execution_count": 10,
   "id": "38e8a632",
   "metadata": {
    "execution": {
     "iopub.execute_input": "2023-08-30T07:59:59.457507Z",
     "iopub.status.busy": "2023-08-30T07:59:59.457197Z",
     "iopub.status.idle": "2023-08-30T07:59:59.462646Z",
     "shell.execute_reply": "2023-08-30T07:59:59.461419Z"
    },
    "papermill": {
     "duration": 0.015257,
     "end_time": "2023-08-30T07:59:59.464514",
     "exception": false,
     "start_time": "2023-08-30T07:59:59.449257",
     "status": "completed"
    },
    "tags": []
   },
   "outputs": [
    {
     "name": "stdout",
     "output_type": "stream",
     "text": [
      "[[8703.14521572]]\n"
     ]
    }
   ],
   "source": [
    "#find the coef\n",
    "print(reg.coef_)"
   ]
  },
  {
   "cell_type": "code",
   "execution_count": 11,
   "id": "890ecc1b",
   "metadata": {
    "execution": {
     "iopub.execute_input": "2023-08-30T07:59:59.479786Z",
     "iopub.status.busy": "2023-08-30T07:59:59.479449Z",
     "iopub.status.idle": "2023-08-30T07:59:59.485191Z",
     "shell.execute_reply": "2023-08-30T07:59:59.483939Z"
    },
    "papermill": {
     "duration": 0.015365,
     "end_time": "2023-08-30T07:59:59.487037",
     "exception": false,
     "start_time": "2023-08-30T07:59:59.471672",
     "status": "completed"
    },
    "tags": []
   },
   "outputs": [
    {
     "name": "stdout",
     "output_type": "stream",
     "text": [
      "[28838.06044786]\n"
     ]
    }
   ],
   "source": [
    "print(reg.intercept_)"
   ]
  },
  {
   "cell_type": "code",
   "execution_count": 12,
   "id": "18e6842b",
   "metadata": {
    "execution": {
     "iopub.execute_input": "2023-08-30T07:59:59.502358Z",
     "iopub.status.busy": "2023-08-30T07:59:59.502016Z",
     "iopub.status.idle": "2023-08-30T07:59:59.508028Z",
     "shell.execute_reply": "2023-08-30T07:59:59.507021Z"
    },
    "papermill": {
     "duration": 0.015744,
     "end_time": "2023-08-30T07:59:59.509744",
     "exception": false,
     "start_time": "2023-08-30T07:59:59.494000",
     "status": "completed"
    },
    "tags": []
   },
   "outputs": [],
   "source": [
    "y_pred = reg.predict(x_test)"
   ]
  },
  {
   "cell_type": "code",
   "execution_count": 13,
   "id": "abca1453",
   "metadata": {
    "execution": {
     "iopub.execute_input": "2023-08-30T07:59:59.525047Z",
     "iopub.status.busy": "2023-08-30T07:59:59.524596Z",
     "iopub.status.idle": "2023-08-30T07:59:59.528648Z",
     "shell.execute_reply": "2023-08-30T07:59:59.527807Z"
    },
    "papermill": {
     "duration": 0.013825,
     "end_time": "2023-08-30T07:59:59.530613",
     "exception": false,
     "start_time": "2023-08-30T07:59:59.516788",
     "status": "completed"
    },
    "tags": []
   },
   "outputs": [
    {
     "name": "stdout",
     "output_type": "stream",
     "text": [
      "[[ 68002.21391858]\n",
      " [ 81056.93174216]\n",
      " [ 46244.35087929]\n",
      " [120221.08521288]\n",
      " [141108.6337306 ]\n",
      " [118480.45616974]\n",
      " [ 97592.90765202]]\n"
     ]
    }
   ],
   "source": [
    "print(y_pred)"
   ]
  },
  {
   "cell_type": "code",
   "execution_count": 14,
   "id": "a7a950e8",
   "metadata": {
    "execution": {
     "iopub.execute_input": "2023-08-30T07:59:59.548433Z",
     "iopub.status.busy": "2023-08-30T07:59:59.547935Z",
     "iopub.status.idle": "2023-08-30T07:59:59.555677Z",
     "shell.execute_reply": "2023-08-30T07:59:59.554487Z"
    },
    "papermill": {
     "duration": 0.019126,
     "end_time": "2023-08-30T07:59:59.557540",
     "exception": false,
     "start_time": "2023-08-30T07:59:59.538414",
     "status": "completed"
    },
    "tags": []
   },
   "outputs": [
    {
     "data": {
      "text/html": [
       "<div>\n",
       "<style scoped>\n",
       "    .dataframe tbody tr th:only-of-type {\n",
       "        vertical-align: middle;\n",
       "    }\n",
       "\n",
       "    .dataframe tbody tr th {\n",
       "        vertical-align: top;\n",
       "    }\n",
       "\n",
       "    .dataframe thead th {\n",
       "        text-align: right;\n",
       "    }\n",
       "</style>\n",
       "<table border=\"1\" class=\"dataframe\">\n",
       "  <thead>\n",
       "    <tr style=\"text-align: right;\">\n",
       "      <th></th>\n",
       "      <th>Salary</th>\n",
       "    </tr>\n",
       "  </thead>\n",
       "  <tbody>\n",
       "    <tr>\n",
       "      <th>14</th>\n",
       "      <td>61111</td>\n",
       "    </tr>\n",
       "    <tr>\n",
       "      <th>19</th>\n",
       "      <td>93940</td>\n",
       "    </tr>\n",
       "    <tr>\n",
       "      <th>3</th>\n",
       "      <td>43525</td>\n",
       "    </tr>\n",
       "    <tr>\n",
       "      <th>29</th>\n",
       "      <td>121872</td>\n",
       "    </tr>\n",
       "    <tr>\n",
       "      <th>33</th>\n",
       "      <td>135675</td>\n",
       "    </tr>\n",
       "    <tr>\n",
       "      <th>28</th>\n",
       "      <td>122391</td>\n",
       "    </tr>\n",
       "    <tr>\n",
       "      <th>22</th>\n",
       "      <td>101302</td>\n",
       "    </tr>\n",
       "  </tbody>\n",
       "</table>\n",
       "</div>"
      ],
      "text/plain": [
       "    Salary\n",
       "14   61111\n",
       "19   93940\n",
       "3    43525\n",
       "29  121872\n",
       "33  135675\n",
       "28  122391\n",
       "22  101302"
      ]
     },
     "execution_count": 14,
     "metadata": {},
     "output_type": "execute_result"
    }
   ],
   "source": [
    "y_test"
   ]
  },
  {
   "cell_type": "code",
   "execution_count": 15,
   "id": "4c0c6f36",
   "metadata": {
    "execution": {
     "iopub.execute_input": "2023-08-30T07:59:59.573197Z",
     "iopub.status.busy": "2023-08-30T07:59:59.572888Z",
     "iopub.status.idle": "2023-08-30T07:59:59.582732Z",
     "shell.execute_reply": "2023-08-30T07:59:59.581729Z"
    },
    "papermill": {
     "duration": 0.019639,
     "end_time": "2023-08-30T07:59:59.584465",
     "exception": false,
     "start_time": "2023-08-30T07:59:59.564826",
     "status": "completed"
    },
    "tags": []
   },
   "outputs": [
    {
     "name": "stdout",
     "output_type": "stream",
     "text": [
      "mean absolute error 5313.973964525432\n",
      "mean squared error 40308108.63707036\n",
      "root mean squared error 6348.866720688848\n"
     ]
    }
   ],
   "source": [
    "from sklearn import metrics\n",
    "print(\"mean absolute error\",metrics.mean_absolute_error(y_test,y_pred))\n",
    "print(\"mean squared error\",metrics.mean_squared_error(y_test,y_pred))\n",
    "print(\"root mean squared error\",np.sqrt(metrics.mean_squared_error(y_test,y_pred)))"
   ]
  },
  {
   "cell_type": "code",
   "execution_count": 16,
   "id": "f0e02c58",
   "metadata": {
    "execution": {
     "iopub.execute_input": "2023-08-30T07:59:59.602669Z",
     "iopub.status.busy": "2023-08-30T07:59:59.602304Z",
     "iopub.status.idle": "2023-08-30T07:59:59.779636Z",
     "shell.execute_reply": "2023-08-30T07:59:59.778729Z"
    },
    "papermill": {
     "duration": 0.18877,
     "end_time": "2023-08-30T07:59:59.781820",
     "exception": false,
     "start_time": "2023-08-30T07:59:59.593050",
     "status": "completed"
    },
    "tags": []
   },
   "outputs": [
    {
     "data": {
      "image/png": "[encoded data removed]",
      "text/plain": [
       "<Figure size 640x480 with 1 Axes>"
      ]
     },
     "metadata": {},
     "output_type": "display_data"
    }
   ],
   "source": [
    "plt.scatter(x,y,color='r')\n",
    "plt.plot(x,reg.predict(x),color=\"black\")\n",
    "plt.show()"
   ]
  },
  {
   "cell_type": "code",
   "execution_count": 17,
   "id": "7680f711",
   "metadata": {
    "execution": {
     "iopub.execute_input": "2023-08-30T07:59:59.798872Z",
     "iopub.status.busy": "2023-08-30T07:59:59.798482Z",
     "iopub.status.idle": "2023-08-30T07:59:59.802266Z",
     "shell.execute_reply": "2023-08-30T07:59:59.801428Z"
    },
    "papermill": {
     "duration": 0.014792,
     "end_time": "2023-08-30T07:59:59.804556",
     "exception": false,
     "start_time": "2023-08-30T07:59:59.789764",
     "status": "completed"
    },
    "tags": []
   },
   "outputs": [],
   "source": [
    "from sklearn.metrics import r2_score\n"
   ]
  },
  {
   "cell_type": "code",
   "execution_count": 18,
   "id": "5d90aca2",
   "metadata": {
    "execution": {
     "iopub.execute_input": "2023-08-30T07:59:59.822843Z",
     "iopub.status.busy": "2023-08-30T07:59:59.822430Z",
     "iopub.status.idle": "2023-08-30T07:59:59.830237Z",
     "shell.execute_reply": "2023-08-30T07:59:59.829333Z"
    },
    "papermill": {
     "duration": 0.01962,
     "end_time": "2023-08-30T07:59:59.832625",
     "exception": false,
     "start_time": "2023-08-30T07:59:59.813005",
     "status": "completed"
    },
    "tags": []
   },
   "outputs": [
    {
     "data": {
      "text/plain": [
       "0.9593108462602296"
      ]
     },
     "execution_count": 18,
     "metadata": {},
     "output_type": "execute_result"
    }
   ],
   "source": [
    "r2_score(y_test,y_pred)"
   ]
  },
  {
   "cell_type": "markdown",
   "id": "1bdf47e1",
   "metadata": {
    "papermill": {
     "duration": 0.007515,
     "end_time": "2023-08-30T07:59:59.848417",
     "exception": false,
     "start_time": "2023-08-30T07:59:59.840902",
     "status": "completed"
    },
    "tags": []
   },
   "source": [
    "As we get a r2_score 0.95, We can conclude that our model is  good. We can say that our model predict 95% accurately."
   ]
  },
  {
   "cell_type": "markdown",
   "id": "89d9d4ea",
   "metadata": {
    "papermill": {
     "duration": 0.007785,
     "end_time": "2023-08-30T07:59:59.864028",
     "exception": false,
     "start_time": "2023-08-30T07:59:59.856243",
     "status": "completed"
    },
    "tags": []
   },
   "source": [
    "So, I created a Dataset of Years of Experience by myself to predict the salary."
   ]
  },
  {
   "cell_type": "code",
   "execution_count": 19,
   "id": "96f81703",
   "metadata": {
    "execution": {
     "iopub.execute_input": "2023-08-30T07:59:59.881713Z",
     "iopub.status.busy": "2023-08-30T07:59:59.881364Z",
     "iopub.status.idle": "2023-08-30T07:59:59.888126Z",
     "shell.execute_reply": "2023-08-30T07:59:59.886958Z"
    },
    "papermill": {
     "duration": 0.017577,
     "end_time": "2023-08-30T07:59:59.889826",
     "exception": false,
     "start_time": "2023-08-30T07:59:59.872249",
     "status": "completed"
    },
    "tags": []
   },
   "outputs": [],
   "source": [
    "new_year_of_experience = [10,22,9,6,4]\n",
    "new_data = pd.DataFrame({\"YearsExperience\":new_year_of_experience})\n",
    "predicted_salary = reg.predict(new_data)"
   ]
  },
  {
   "cell_type": "code",
   "execution_count": 20,
   "id": "8aedd69b",
   "metadata": {
    "execution": {
     "iopub.execute_input": "2023-08-30T07:59:59.907348Z",
     "iopub.status.busy": "2023-08-30T07:59:59.906705Z",
     "iopub.status.idle": "2023-08-30T07:59:59.911977Z",
     "shell.execute_reply": "2023-08-30T07:59:59.910648Z"
    },
    "papermill": {
     "duration": 0.016378,
     "end_time": "2023-08-30T07:59:59.914518",
     "exception": false,
     "start_time": "2023-08-30T07:59:59.898140",
     "status": "completed"
    },
    "tags": []
   },
   "outputs": [
    {
     "name": "stdout",
     "output_type": "stream",
     "text": [
      "[[115869.51260502]\n",
      " [220307.25519362]\n",
      " [107166.36738931]\n",
      " [ 81056.93174216]\n",
      " [ 63650.64131073]]\n"
     ]
    }
   ],
   "source": [
    "print(predicted_salary)"
   ]
  }
 ],
 "kernelspec": {
  "display_name": "Python 3",
  "language": "python",
  "name": "python3"
 },
 "language_info": {
  "codemirror_mode": {
   "name": "ipython",
   "version": 3
  },
  "file_extension": ".py",
  "mimetype": "text/x-python",
  "name": "python",
  "nbconvert_exporter": "python",
  "pygments_lexer": "ipython3",
  "version": "3.6.4"
 },
 "metadata": {
  "kernelspec": {
   "display_name": "Python 3",
   "language": "python",
   "name": "python3"
  },
  "language_info": {
   "codemirror_mode": {
    "name": "ipython",
    "version": 3
   },
   "file_extension": ".py",
   "mimetype": "text/x-python",
   "name": "python",
   "nbconvert_exporter": "python",
   "pygments_lexer": "ipython3",
   "version": "3.10.12"
  },
  "papermill": {
   "default_parameters": {},
   "duration": 11.020599,
   "end_time": "2023-08-30T08:00:00.843844",
   "environment_variables": {},
   "exception": null,
   "input_path": "__notebook__.ipynb",
   "output_path": "__notebook__.ipynb",
   "parameters": {},
   "start_time": "2023-08-30T07:59:49.823245",
   "version": "2.4.0"
  }
 },
 "nbformat": 4,
 "nbformat_minor": 5
}
